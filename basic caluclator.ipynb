{
 "cells": [
  {
   "cell_type": "code",
   "execution_count": null,
   "metadata": {},
   "outputs": [
    {
     "ename": "",
     "evalue": "",
     "output_type": "error",
     "traceback": [
      "\u001b[1;31mFailed to start the Kernel. \n",
      "\u001b[1;31mUnable to start Kernel 'Python 3.12.1' due to a timeout waiting for the ports to get used. \n",
      "\u001b[1;31mView Jupyter <a href='command:jupyter.viewOutput'>log</a> for further details."
     ]
    }
   ],
   "source": [
    "\n",
    "a = int (input('Enter first number'))\n",
    "b = int (input('Enter second number'))\n",
    "c = (input('operator'))\n",
    "if c == (\"+\"):\n",
    "    print (a + b)\n",
    "elif c == (\"-\"):\n",
    "    print(a - b)\n",
    "elif c == (\"/\"):\n",
    "    print(a / b)\n",
    "elif c == (\"*\"):\n",
    "    print(a * b)\n",
    "else:\n",
    "    print(\"error\")"
   ]
  }
 ],
 "metadata": {
  "kernelspec": {
   "display_name": "Python 3",
   "language": "python",
   "name": "python3"
  },
  "language_info": {
   "name": "python",
   "version": "3.12.1"
  }
 },
 "nbformat": 4,
 "nbformat_minor": 2
}
